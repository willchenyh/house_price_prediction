{
 "cells": [
  {
   "cell_type": "markdown",
   "metadata": {},
   "source": [
    "# House Price Prediction"
   ]
  },
  {
   "cell_type": "markdown",
   "metadata": {},
   "source": [
    "## Baseline Method and Score"
   ]
  },
  {
   "cell_type": "code",
   "execution_count": 1,
   "metadata": {
    "collapsed": true
   },
   "outputs": [],
   "source": [
    "from __future__ import print_function\n",
    "import numpy as np\n",
    "import pandas as pd\n",
    "%matplotlib inline\n",
    "import matplotlib.pyplot as plt\n",
    "from sklearn.metrics import mean_squared_error\n",
    "from sklearn.model_selection import KFold\n",
    "from sklearn.linear_model import LinearRegression\n",
    "from sklearn.linear_model import Ridge"
   ]
  },
  {
   "cell_type": "code",
   "execution_count": 2,
   "metadata": {
    "collapsed": false
   },
   "outputs": [
    {
     "name": "stdout",
     "output_type": "stream",
     "text": [
      "x_train shape: (1460, 79)\n",
      "x_test shape: (1459, 79)\n",
      "combined shape: (2919, 79)\n"
     ]
    }
   ],
   "source": [
    "# read data\n",
    "train = pd.read_csv('train.csv')\n",
    "test = pd.read_csv('test.csv')\n",
    "\n",
    "# get other train info\n",
    "num_train = train.shape[0]\n",
    "id_train = train['Id']\n",
    "y_train = train['SalePrice']\n",
    "x_train = train.drop(['Id','SalePrice'], axis=1)\n",
    "print('x_train shape:', x_train.shape)\n",
    "\n",
    "# get other test info\n",
    "num_test = test.shape[0]\n",
    "id_test = test['Id']\n",
    "x_test = test.drop(['Id'], axis=1)\n",
    "print('x_test shape:', x_test.shape)\n",
    "\n",
    "# combine train and test data\n",
    "comb = pd.concat([x_train, x_test], ignore_index=True)\n",
    "print('combined shape:', comb.shape)"
   ]
  },
  {
   "cell_type": "code",
   "execution_count": 3,
   "metadata": {
    "collapsed": false
   },
   "outputs": [
    {
     "name": "stdout",
     "output_type": "stream",
     "text": [
      "Number of features with NA: 34\n"
     ]
    },
    {
     "data": {
      "image/png": "[encoded data removed]",
      "text/plain": [
       "<matplotlib.figure.Figure at 0xdea7cc0>"
      ]
     },
     "metadata": {},
     "output_type": "display_data"
    },
    {
     "name": "stdout",
     "output_type": "stream",
     "text": [
      "Inital NA count:\n",
      "MSZoning           4\n",
      "LotFrontage      486\n",
      "Alley           2721\n",
      "Utilities          2\n",
      "Exterior1st        1\n",
      "Exterior2nd        1\n",
      "MasVnrType        24\n",
      "MasVnrArea        23\n",
      "BsmtQual          81\n",
      "BsmtCond          82\n",
      "BsmtExposure      82\n",
      "BsmtFinType1      79\n",
      "BsmtFinSF1         1\n",
      "BsmtFinType2      80\n",
      "BsmtFinSF2         1\n",
      "BsmtUnfSF          1\n",
      "TotalBsmtSF        1\n",
      "Electrical         1\n",
      "BsmtFullBath       2\n",
      "BsmtHalfBath       2\n",
      "KitchenQual        1\n",
      "Functional         2\n",
      "FireplaceQu     1420\n",
      "GarageType       157\n",
      "GarageYrBlt      159\n",
      "GarageFinish     159\n",
      "GarageCars         1\n",
      "GarageArea         1\n",
      "GarageQual       159\n",
      "GarageCond       159\n",
      "PoolQC          2909\n",
      "Fence           2348\n",
      "MiscFeature     2814\n",
      "SaleType           1\n",
      "dtype: int64\n"
     ]
    }
   ],
   "source": [
    "# count NAs for each feature\n",
    "na_count = comb.isnull().sum()\n",
    "na_count = na_count[na_count!=0]\n",
    "print('Number of features with NA:', na_count.shape[0])\n",
    "\n",
    "# plot percentage of NA values\n",
    "na_pct = na_count.div(2919).multiply(100)\n",
    "na_pct.plot.barh(figsize=(5,10))\n",
    "plt.title('Percentage of NA values in features')\n",
    "plt.xlabel('Percentage')\n",
    "plt.ylabel('Feature')\n",
    "plt.show()\n",
    "print('Inital NA count:')\n",
    "print(na_count)"
   ]
  },
  {
   "cell_type": "code",
   "execution_count": 4,
   "metadata": {
    "collapsed": false
   },
   "outputs": [
    {
     "name": "stdout",
     "output_type": "stream",
     "text": [
      "Number of remaining features: 45\n",
      "Index([u'MSSubClass', u'LotArea', u'Street', u'LotShape', u'LandContour',\n",
      "       u'LotConfig', u'LandSlope', u'Neighborhood', u'Condition1',\n",
      "       u'Condition2', u'BldgType', u'HouseStyle', u'OverallQual',\n",
      "       u'OverallCond', u'YearBuilt', u'YearRemodAdd', u'RoofStyle',\n",
      "       u'RoofMatl', u'ExterQual', u'ExterCond', u'Foundation', u'Heating',\n",
      "       u'HeatingQC', u'CentralAir', u'1stFlrSF', u'2ndFlrSF', u'LowQualFinSF',\n",
      "       u'GrLivArea', u'FullBath', u'HalfBath', u'BedroomAbvGr',\n",
      "       u'KitchenAbvGr', u'TotRmsAbvGrd', u'Fireplaces', u'PavedDrive',\n",
      "       u'WoodDeckSF', u'OpenPorchSF', u'EnclosedPorch', u'3SsnPorch',\n",
      "       u'ScreenPorch', u'PoolArea', u'MiscVal', u'MoSold', u'YrSold',\n",
      "       u'SaleCondition'],\n",
      "      dtype='object')\n"
     ]
    }
   ],
   "source": [
    "# dropping columns with NA\n",
    "comb_wona = comb.dropna(axis=1)\n",
    "print('Number of remaining features:', comb_wona.shape[1])\n",
    "print(comb_wona.columns)"
   ]
  },
  {
   "cell_type": "code",
   "execution_count": 5,
   "metadata": {
    "collapsed": false
   },
   "outputs": [
    {
     "name": "stdout",
     "output_type": "stream",
     "text": [
      "Shape after one hot encoding: (2919, 149)\n"
     ]
    }
   ],
   "source": [
    "# convert to one-hot encoding\n",
    "comb_oh = pd.get_dummies(comb_wona)\n",
    "print('Shape after one hot encoding:', comb_oh.shape)"
   ]
  },
  {
   "cell_type": "code",
   "execution_count": 6,
   "metadata": {
    "collapsed": false
   },
   "outputs": [],
   "source": [
    "# extract train and test data from combined\n",
    "x_train = comb_oh[:num_train]\n",
    "x_test = comb_oh[num_train:]"
   ]
  },
  {
   "cell_type": "code",
   "execution_count": 7,
   "metadata": {
    "collapsed": false
   },
   "outputs": [],
   "source": [
    "# root mean squared log error\n",
    "def rmsle(pred, gtruth):\n",
    "    mse = mean_squared_error(np.log1p(gtruth), np.log1p(pred))\n",
    "    return np.sqrt(mse)\n",
    "\n",
    "def kfold_cv(x, y, regr, k=5):\n",
    "    kf = KFold(k)\n",
    "    x = x.as_matrix()\n",
    "    y = y.as_matrix()\n",
    "    error = 0\n",
    "    for train_idx, test_idx in kf.split(x, y):\n",
    "        regr.fit(x[train_idx,:], y[train_idx])\n",
    "        pred = regr.predict(x[test_idx,:])\n",
    "        error += rmsle(pred, y[test_idx]) / float(k)\n",
    "    return error"
   ]
  },
  {
   "cell_type": "code",
   "execution_count": 8,
   "metadata": {
    "collapsed": false
   },
   "outputs": [],
   "source": [
    "# # use linear regression\n",
    "# regr = LinearRegression()\n",
    "# error = kfold_cv(x_train, y_train, regr, k=3)\n",
    "# print(error)\n",
    "# === NOTE ===\n",
    "# Raises an error: input for log function too large"
   ]
  },
  {
   "cell_type": "code",
   "execution_count": 9,
   "metadata": {
    "collapsed": false
   },
   "outputs": [
    {
     "name": "stdout",
     "output_type": "stream",
     "text": [
      "0.175941520473\n"
     ]
    }
   ],
   "source": [
    "# use linear regression with 2-norm regularization\n",
    "regr = Ridge()\n",
    "error = kfold_cv(x_train, y_train, regr)\n",
    "print(error)"
   ]
  }
 ],
 "metadata": {
  "kernelspec": {
   "display_name": "Python 2",
   "language": "python",
   "name": "python2"
  },
  "language_info": {
   "codemirror_mode": {
    "name": "ipython",
    "version": 2
   },
   "file_extension": ".py",
   "mimetype": "text/x-python",
   "name": "python",
   "nbconvert_exporter": "python",
   "pygments_lexer": "ipython2",
   "version": "2.7.13"
  }
 },
 "nbformat": 4,
 "nbformat_minor": 2
}
