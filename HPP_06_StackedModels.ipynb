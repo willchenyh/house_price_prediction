{
 "cells": [
  {
   "cell_type": "markdown",
   "metadata": {},
   "source": [
    "# House Price Prediction"
   ]
  },
  {
   "cell_type": "markdown",
   "metadata": {},
   "source": [
    "## Explore Stacked Models"
   ]
  },
  {
   "cell_type": "code",
   "execution_count": 1,
   "metadata": {
    "collapsed": true
   },
   "outputs": [],
   "source": [
    "from __future__ import print_function\n",
    "import numpy as np\n",
    "import pandas as pd\n",
    "%matplotlib inline\n",
    "import matplotlib.pyplot as plt\n",
    "from sklearn.metrics import mean_squared_error\n",
    "from sklearn.model_selection import KFold\n",
    "from sklearn.model_selection import GridSearchCV\n",
    "from sklearn.linear_model import Ridge\n",
    "from sklearn.linear_model import Lasso\n",
    "from sklearn.linear_model import ElasticNet\n",
    "from sklearn.kernel_ridge import KernelRidge\n",
    "from sklearn.ensemble import GradientBoostingRegressor\n",
    "from sklearn.pipeline import make_pipeline\n",
    "from sklearn.preprocessing import RobustScaler\n",
    "from scipy.stats import skew"
   ]
  },
  {
   "cell_type": "code",
   "execution_count": 2,
   "metadata": {
    "collapsed": false
   },
   "outputs": [
    {
     "name": "stdout",
     "output_type": "stream",
     "text": [
      "x_train shape: (1456, 79)\n",
      "x_test shape: (1459, 79)\n",
      "combined shape: (2915, 79)\n"
     ]
    }
   ],
   "source": [
    "# read data\n",
    "train = pd.read_csv('train.csv')\n",
    "test = pd.read_csv('test.csv')\n",
    "\n",
    "# remove outliers (with GrLivArea > 4000)\n",
    "train = train[train.GrLivArea < 4000]\n",
    "\n",
    "# get other train info\n",
    "num_train = train.shape[0]\n",
    "id_train = train['Id']\n",
    "y_train = train['SalePrice']\n",
    "x_train = train.drop(['Id','SalePrice'], axis=1)\n",
    "print('x_train shape:', x_train.shape)\n",
    "\n",
    "# get other test info\n",
    "num_test = test.shape[0]\n",
    "id_test = test['Id']\n",
    "x_test = test.drop(['Id'], axis=1)\n",
    "print('x_test shape:', x_test.shape)\n",
    "\n",
    "# combine train and test data\n",
    "comb = pd.concat([x_train, x_test], ignore_index=True)\n",
    "print('combined shape:', comb.shape)"
   ]
  },
  {
   "cell_type": "code",
   "execution_count": 3,
   "metadata": {
    "collapsed": false
   },
   "outputs": [
    {
     "name": "stdout",
     "output_type": "stream",
     "text": [
      "Number of features with NA: 34\n",
      "Inital NA count:\n",
      "MSZoning           4\n",
      "LotFrontage      486\n",
      "Alley           2717\n",
      "Utilities          2\n",
      "Exterior1st        1\n",
      "Exterior2nd        1\n",
      "MasVnrType        24\n",
      "MasVnrArea        23\n",
      "BsmtQual          81\n",
      "BsmtCond          82\n",
      "BsmtExposure      82\n",
      "BsmtFinType1      79\n",
      "BsmtFinSF1         1\n",
      "BsmtFinType2      80\n",
      "BsmtFinSF2         1\n",
      "BsmtUnfSF          1\n",
      "TotalBsmtSF        1\n",
      "Electrical         1\n",
      "BsmtFullBath       2\n",
      "BsmtHalfBath       2\n",
      "KitchenQual        1\n",
      "Functional         2\n",
      "FireplaceQu     1420\n",
      "GarageType       157\n",
      "GarageYrBlt      159\n",
      "GarageFinish     159\n",
      "GarageCars         1\n",
      "GarageArea         1\n",
      "GarageQual       159\n",
      "GarageCond       159\n",
      "PoolQC          2907\n",
      "Fence           2345\n",
      "MiscFeature     2810\n",
      "SaleType           1\n",
      "dtype: int64\n"
     ]
    }
   ],
   "source": [
    "# count NAs for each feature\n",
    "na_count = comb.isnull().sum()\n",
    "na_count = na_count[na_count!=0]\n",
    "print('Number of features with NA:', na_count.shape[0])\n",
    "print('Inital NA count:')\n",
    "print(na_count)"
   ]
  },
  {
   "cell_type": "code",
   "execution_count": 4,
   "metadata": {
    "collapsed": false
   },
   "outputs": [
    {
     "name": "stdout",
     "output_type": "stream",
     "text": [
      "Number of features with NA: 0\n",
      "Post-processing NA count:\n",
      "Series([], dtype: int64)\n"
     ]
    }
   ],
   "source": [
    "# change meaningful NAs to None\n",
    "target_cols = ['Alley', 'MasVnrType', 'BsmtQual','BsmtCond','BsmtExposure','BsmtFinType1','BsmtFinType2','FireplaceQu',\n",
    "               'GarageType', 'GarageFinish','GarageQual','GarageCond','PoolQC','Fence','MiscFeature']\n",
    "comb.loc[:, target_cols] = comb[target_cols].fillna('None')\n",
    "\n",
    "# LotFrontage: use medium of the same neighborhood\n",
    "comb.loc[:, ['LotFrontage']] = comb.groupby(['Neighborhood'])['LotFrontage'].transform(\n",
    "    lambda x : x.fillna(x.median()))\n",
    "\n",
    "# Utilities: the test set only has Allpub value, and it has only 2 missing values. It's insignificant.\n",
    "comb.drop(['Utilities'], axis=1, inplace=True)\n",
    "\n",
    "# Bsmt area/bathroom related: use 0\n",
    "target_cols = ['BsmtFinSF1', 'BsmtFinSF2', 'BsmtUnfSF', 'TotalBsmtSF', 'BsmtFullBath', 'BsmtHalfBath']\n",
    "comb.loc[:, target_cols] = comb[target_cols].fillna(0)\n",
    "\n",
    "# Functional: use Typ\n",
    "comb.loc[:, ['Functional']] = comb['Functional'].fillna('Typ')\n",
    "\n",
    "# Garage related: use 0\n",
    "target_cols = ['GarageYrBlt', 'GarageCars', 'GarageArea']\n",
    "comb.loc[:, target_cols] = comb[target_cols].fillna(0)\n",
    "\n",
    "# Others: use mode\n",
    "target_cols = ['MSZoning', 'Exterior1st', 'Exterior2nd', 'MasVnrArea', 'Electrical', 'KitchenQual', 'SaleType']\n",
    "vals = comb.loc[:, target_cols].mode()\n",
    "comb.loc[:, target_cols] = comb[target_cols].fillna(vals.loc[0,:])\n",
    "\n",
    "# count NAs for each feature again\n",
    "na_count = comb.isnull().sum()\n",
    "na_count = na_count[na_count!=0]\n",
    "print('Number of features with NA:', na_count.shape[0])\n",
    "print('Post-processing NA count:')\n",
    "print(na_count)"
   ]
  },
  {
   "cell_type": "code",
   "execution_count": 5,
   "metadata": {
    "collapsed": false
   },
   "outputs": [],
   "source": [
    "# convert categorical features to strings\n",
    "comb['MSSubClass_cat'] = comb['MSSubClass'].astype('str')\n",
    "\n",
    "# convert ordinal features to numbers\n",
    "comb = comb.replace({\n",
    "    'Street' : {'Grvl' : 1, 'Pave' : 2},\n",
    "    'Alley' : {'Grvl' : 1, 'Pave' : 2},\n",
    "    'LotShape' : {'IR3' : 1, 'IR2' : 2, 'IR1' : 3, 'Reg' : 4},\n",
    "    'LandSlope' : {'Sev' : 1, 'Mod' : 2, 'Gtl' : 3},\n",
    "    'ExterQual' : {'Po' : 1, 'Fa' : 2, 'TA': 3, 'Gd': 4, 'Ex' : 5},\n",
    "    'ExterCond' : {'Po' : 1, 'Fa' : 2, 'TA': 3, 'Gd': 4, 'Ex' : 5},\n",
    "    'BsmtQual' : {'None' : 0, 'Po' : 1, 'Fa' : 2, 'TA': 3, 'Gd' : 4, 'Ex' : 5},\n",
    "    'BsmtCond' : {'None' : 0, 'Po' : 1, 'Fa' : 2, 'TA' : 3, 'Gd' : 4, 'Ex' : 5},\n",
    "    'BsmtExposure' : {'None' : 0, 'Mn' : 1, 'Av': 2, 'Gd' : 3},\n",
    "    'BsmtFinType1' : {'None' : 0, 'Unf' : 1, 'LwQ': 2, 'Rec' : 3, 'BLQ' : 4, 'ALQ' : 5, 'GLQ' : 6},\n",
    "    'BsmtFinType2' : {'None' : 0, 'Unf' : 1, 'LwQ': 2, 'Rec' : 3, 'BLQ' : 4, 'ALQ' : 5, 'GLQ' : 6},\n",
    "    'HeatingQC' : {'Po' : 1, 'Fa' : 2, 'TA' : 3, 'Gd' : 4, 'Ex' : 5},\n",
    "    'KitchenQual' : {'Po' : 1, 'Fa' : 2, 'TA' : 3, 'Gd' : 4, 'Ex' : 5},\n",
    "    'Functional' : {'Sal' : 1, 'Sev' : 2, 'Maj2' : 3, 'Maj1' : 4, 'Mod': 5, 'Min2' : 6, 'Min1' : 7, 'Typ' : 8},\n",
    "    'FireplaceQu' : {'None' : 0, 'Po' : 1, 'Fa' : 2, 'TA' : 3, 'Gd' : 4, 'Ex' : 5},\n",
    "    'GarageFinish':{'None':0, 'Unf':1, 'RFn':2, 'Fin':3},\n",
    "    'GarageQual' : {'None' : 0, 'Po' : 1, 'Fa' : 2, 'TA' : 3, 'Gd' : 4, 'Ex' : 5},\n",
    "    'GarageCond' : {'None' : 0, 'Po' : 1, 'Fa' : 2, 'TA' : 3, 'Gd' : 4, 'Ex' : 5},\n",
    "    'PavedDrive' : {'N' : 0, 'P' : 1, 'Y' : 2},\n",
    "    'PoolQC' : {'None' : 0, 'Fa' : 1, 'TA' : 2, 'Gd' : 3, 'Ex' : 4},\n",
    "    })"
   ]
  },
  {
   "cell_type": "code",
   "execution_count": 6,
   "metadata": {
    "collapsed": false
   },
   "outputs": [
    {
     "name": "stdout",
     "output_type": "stream",
     "text": [
      "Shape after feature engineering: (2915, 91)\n"
     ]
    }
   ],
   "source": [
    "# create more features\n",
    "\n",
    "# create features for overall scores\n",
    "comb['OverallScore'] = comb['OverallQual'] * comb['OverallCond']\n",
    "comb['GarageScore'] = comb['GarageQual'] * comb['GarageCond']\n",
    "comb['ExterScore'] = comb['ExterQual'] * comb['ExterCond']\n",
    "comb['KitchenScore'] = comb['KitchenAbvGr'] * comb['KitchenQual']\n",
    "comb['FireplaceScore'] = comb['Fireplaces'] * comb['FireplaceQu']\n",
    "comb['GarageScore2'] = comb['GarageArea'] * comb['GarageQual']\n",
    "comb['PoolScore'] = comb['PoolArea'] * comb['PoolQC']\n",
    "\n",
    "# Total number of bathrooms\n",
    "comb['TotalBath'] = comb['BsmtFullBath'] + (0.5 * comb['BsmtHalfBath']) + comb['FullBath'] + (0.5 * comb['HalfBath'])\n",
    "# Total square footage for house\n",
    "comb['TotalSF'] = comb['GrLivArea'] + comb['TotalBsmtSF']\n",
    "# Total square footage for porch\n",
    "comb['TotalPorchSF'] = comb['OpenPorchSF'] + comb['EnclosedPorch'] + comb['3SsnPorch'] + comb['ScreenPorch']\n",
    "\n",
    "# compute years used\n",
    "def cap_zero(x):\n",
    "    if x >= 0:\n",
    "        return x\n",
    "    return 0\n",
    "\n",
    "comb['YearsUsedConstr'] = (comb['YrSold'] - comb['YearBuilt']).apply(cap_zero)\n",
    "comb['YearsUsedRem'] = (comb['YrSold'] - comb['YearRemodAdd']).apply(cap_zero)\n",
    "\n",
    "print('Shape after feature engineering:', comb.shape)"
   ]
  },
  {
   "cell_type": "code",
   "execution_count": 7,
   "metadata": {
    "collapsed": false
   },
   "outputs": [
    {
     "name": "stdout",
     "output_type": "stream",
     "text": [
      "SalePrice skewness: 1.56434554842\n"
     ]
    },
    {
     "data": {
      "image/png": "[encoded data removed]",
      "text/plain": [
       "<matplotlib.figure.Figure at 0xe047f60>"
      ]
     },
     "metadata": {},
     "output_type": "display_data"
    }
   ],
   "source": [
    "# check skewness of target variable\n",
    "y_train_skewness = skew(y_train)\n",
    "print('SalePrice skewness:', y_train_skewness)\n",
    "\n",
    "# visualize\n",
    "plt.hist(y_train)\n",
    "plt.title('SalePrice')\n",
    "plt.xlabel('Price')\n",
    "plt.ylabel('Number of observations')\n",
    "plt.show()\n",
    "plt.close()"
   ]
  },
  {
   "cell_type": "code",
   "execution_count": 8,
   "metadata": {
    "collapsed": false
   },
   "outputs": [
    {
     "name": "stdout",
     "output_type": "stream",
     "text": [
      "SalePrice (log transformed) skewness: 0.065392611544\n"
     ]
    },
    {
     "data": {
      "image/png": "[encoded data removed]",
      "text/plain": [
       "<matplotlib.figure.Figure at 0xe30ba90>"
      ]
     },
     "metadata": {},
     "output_type": "display_data"
    }
   ],
   "source": [
    "# log transform variables\n",
    "y_train = np.log1p(y_train)\n",
    "print('SalePrice (log transformed) skewness:', skew(y_train))\n",
    "\n",
    "plt.hist(y_train)\n",
    "plt.title('SalePrice (log tranformed)')\n",
    "plt.xlabel('Price')\n",
    "plt.ylabel('Number of observations')\n",
    "plt.show()\n",
    "plt.close()"
   ]
  },
  {
   "cell_type": "code",
   "execution_count": 9,
   "metadata": {
    "collapsed": false
   },
   "outputs": [
    {
     "name": "stdout",
     "output_type": "stream",
     "text": [
      "Number of numerical features: 66\n",
      "Number of skewed features: 35\n"
     ]
    }
   ],
   "source": [
    "# log transform skewed independent variables\n",
    "comb_numeric = comb.select_dtypes(include=[np.number])\n",
    "print('Number of numerical features:', len(comb_numeric.columns))\n",
    "skewness = comb_numeric.apply(lambda x : skew(x))\n",
    "skewness = skewness[skewness > 0.6]\n",
    "skewed_features = list(skewness.index)\n",
    "print('Number of skewed features:', len(skewed_features))\n",
    "comb[skewed_features] = np.log1p(comb[skewed_features])"
   ]
  },
  {
   "cell_type": "code",
   "execution_count": 10,
   "metadata": {
    "collapsed": false
   },
   "outputs": [
    {
     "name": "stdout",
     "output_type": "stream",
     "text": [
      "Shape after one hot encoding: (2915, 258)\n"
     ]
    }
   ],
   "source": [
    "# use one-hot encoding\n",
    "comb_oh = pd.get_dummies(comb)\n",
    "print('Shape after one hot encoding:', comb_oh.shape)"
   ]
  },
  {
   "cell_type": "code",
   "execution_count": 11,
   "metadata": {
    "collapsed": false
   },
   "outputs": [],
   "source": [
    "# extract train and test data from combined\n",
    "x_train = comb_oh[:num_train]\n",
    "x_test = comb_oh[num_train:]"
   ]
  },
  {
   "cell_type": "code",
   "execution_count": 12,
   "metadata": {
    "collapsed": false
   },
   "outputs": [],
   "source": [
    "# root mean squared log error\n",
    "def rmsle(pred, gtruth):\n",
    "    mse = mean_squared_error(gtruth, pred)\n",
    "    return np.sqrt(mse)\n",
    "\n",
    "def kfold_cv(x, y, regr, k=3):\n",
    "    kf = KFold(k)\n",
    "    x = x.as_matrix()\n",
    "    y = y.as_matrix()\n",
    "    error = 0\n",
    "    for train_idx, test_idx in kf.split(x, y):\n",
    "        regr.fit(x[train_idx,:], y[train_idx])\n",
    "        pred = regr.predict(x[test_idx,:])\n",
    "        error += rmsle(pred, y[test_idx]) / float(k)\n",
    "    return error"
   ]
  },
  {
   "cell_type": "code",
   "execution_count": 13,
   "metadata": {
    "collapsed": true
   },
   "outputs": [],
   "source": [
    "# grid search\n",
    "def gs_cv(x, y, regr, params):\n",
    "    gs = GridSearchCV(estimator=regr, param_grid=params, scoring='neg_mean_squared_error')\n",
    "    gs.fit(X=x, y=y)\n",
    "    return np.sqrt(-gs.best_score_), gs.best_params_"
   ]
  },
  {
   "cell_type": "code",
   "execution_count": 14,
   "metadata": {
    "collapsed": true
   },
   "outputs": [],
   "source": [
    "# create averaging model class\n",
    "class AveragingModels(object):\n",
    "    def __init__(self, models):\n",
    "        self.models = models\n",
    "\n",
    "    def fit(self, X, y):\n",
    "        for model in self.models:\n",
    "            model.fit(X, y)\n",
    "        return self.models\n",
    "\n",
    "    def predict(self, X):\n",
    "        pred = 0\n",
    "        for model in self.models:\n",
    "            pred += model.predict(X)\n",
    "        return pred / float(len(self.models))"
   ]
  },
  {
   "cell_type": "code",
   "execution_count": 17,
   "metadata": {
    "collapsed": false
   },
   "outputs": [
    {
     "name": "stdout",
     "output_type": "stream",
     "text": [
      "Averaging Model error: 0.108445066342\n"
     ]
    }
   ],
   "source": [
    "# create base models\n",
    "regr_lasso = make_pipeline(RobustScaler(), Lasso(alpha=0.0005, max_iter=3000))\n",
    "regr_ridge = make_pipeline(RobustScaler(), KernelRidge(alpha=100000, kernel='polynomial', degree=2, coef0=1000000))\n",
    "regr_enet = make_pipeline(RobustScaler(), ElasticNet(alpha=0.0005, l1_ratio=0.9))\n",
    "regr_gbr = GradientBoostingRegressor(n_estimators=300, alpha=0.6, max_depth=2, loss='huber')\n",
    "\n",
    "# create averaging model\n",
    "models = [regr_ridge, regr_lasso, regr_enet, regr_gbr]\n",
    "avgRegr = AveragingModels(models)\n",
    "\n",
    "# compute score\n",
    "error = kfold_cv(x_train, y_train, avgRegr)\n",
    "print('Averaging Model error:', error)"
   ]
  },
  {
   "cell_type": "code",
   "execution_count": 25,
   "metadata": {
    "collapsed": true
   },
   "outputs": [],
   "source": [
    "# create stacked model class\n",
    "class StackedModel(object):\n",
    "    def __init__(self, base_models, meta_model):\n",
    "        self.base_models = base_models\n",
    "        self.meta_model = meta_model\n",
    "\n",
    "    def fit(self, X, y, k=3):\n",
    "        kf = KFold(k)\n",
    "        pred = np.zeros((X.shape[0], len(self.base_models)))\n",
    "        for train_idx, test_idx in kf.split(X, y):\n",
    "            for i, regr in enumerate(self.base_models):\n",
    "                regr.fit(X[train_idx, :], y[train_idx])\n",
    "                pred[test_idx, i] = regr.predict(X[test_idx, :])\n",
    "        self.meta_model.fit(pred, y)\n",
    "\n",
    "    def predict(self, X):\n",
    "        pred = np.zeros((X.shape[0], len(self.base_models)))\n",
    "        for i, regr in enumerate(self.base_models):\n",
    "            pred[:, i] = regr.predict(X)\n",
    "        final_pred = self.meta_model.predict(pred)\n",
    "        return final_pred"
   ]
  },
  {
   "cell_type": "code",
   "execution_count": 29,
   "metadata": {
    "collapsed": false
   },
   "outputs": [
    {
     "name": "stdout",
     "output_type": "stream",
     "text": [
      "alpha: 0.0005 Stacked Model error: 0.109621598834\n",
      "alpha: 0.0001 Stacked Model error: 0.109208951569\n",
      "alpha: 5e-05 Stacked Model error: 0.109336886795\n",
      "alpha: 1e-05 Stacked Model error: 0.109641550432\n"
     ]
    }
   ],
   "source": [
    "# create base models\n",
    "regr_lasso = make_pipeline(RobustScaler(), Lasso(alpha=0.0005, max_iter=3000))\n",
    "regr_ridge = make_pipeline(RobustScaler(), KernelRidge(alpha=100000, kernel='polynomial', degree=2, coef0=1000000))\n",
    "regr_enet = make_pipeline(RobustScaler(), ElasticNet(alpha=0.0005, l1_ratio=0.9))\n",
    "regr_gbr = GradientBoostingRegressor(n_estimators=300, alpha=0.6, max_depth=2, loss='huber')\n",
    "base_models = [regr_ridge, regr_lasso, regr_enet, regr_gbr]\n",
    "\n",
    "# grid search for meta model\n",
    "alphas = [0.0005, 0.0001, 0.00005, 0.00001]\n",
    "for a in alphas:\n",
    "    meta_model = make_pipeline(RobustScaler(), Lasso(alpha=a))\n",
    "    stackedRegr = StackedModel(models, meta_model)\n",
    "    error = kfold_cv(x_train, y_train, stackedRegr)\n",
    "    print('alpha:', a, 'Stacked Model error:', error)"
   ]
  },
  {
   "cell_type": "code",
   "execution_count": 24,
   "metadata": {
    "collapsed": false
   },
   "outputs": [
    {
     "name": "stdout",
     "output_type": "stream",
     "text": [
      "Stacked Model error: 0.109584717949\n"
     ]
    }
   ],
   "source": [
    "# best alpha is 0.0001\n",
    "regr_lasso = make_pipeline(RobustScaler(), Lasso(alpha=0.0005, max_iter=3000))\n",
    "regr_ridge = make_pipeline(RobustScaler(), KernelRidge(alpha=100000, kernel='polynomial', degree=2, coef0=1000000))\n",
    "regr_enet = make_pipeline(RobustScaler(), ElasticNet(alpha=0.0005, l1_ratio=0.9))\n",
    "regr_gbr = GradientBoostingRegressor(n_estimators=300, alpha=0.6, max_depth=2, loss='huber')\n",
    "base_models = [regr_ridge, regr_lasso, regr_enet, regr_gbr]\n",
    "meta_model = make_pipeline(RobustScaler(), Lasso(alpha=0.0001))\n",
    "stackedRegr = StackedModel(models, meta_model)\n",
    "error = kfold_cv(x_train, y_train, stackedRegr)\n",
    "print('Stacked Model error:', error)"
   ]
  }
 ],
 "metadata": {
  "kernelspec": {
   "display_name": "Python 2",
   "language": "python",
   "name": "python2"
  },
  "language_info": {
   "codemirror_mode": {
    "name": "ipython",
    "version": 2
   },
   "file_extension": ".py",
   "mimetype": "text/x-python",
   "name": "python",
   "nbconvert_exporter": "python",
   "pygments_lexer": "ipython2",
   "version": "2.7.13"
  }
 },
 "nbformat": 4,
 "nbformat_minor": 2
}
