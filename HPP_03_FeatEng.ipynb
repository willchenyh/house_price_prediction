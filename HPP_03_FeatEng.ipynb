{
 "cells": [
  {
   "cell_type": "markdown",
   "metadata": {},
   "source": [
    "# House Price Prediction"
   ]
  },
  {
   "cell_type": "markdown",
   "metadata": {},
   "source": [
    "## Feature Engineering"
   ]
  },
  {
   "cell_type": "code",
   "execution_count": 1,
   "metadata": {
    "collapsed": true
   },
   "outputs": [],
   "source": [
    "from __future__ import print_function\n",
    "import numpy as np\n",
    "import pandas as pd\n",
    "%matplotlib inline\n",
    "import matplotlib.pyplot as plt\n",
    "from sklearn.metrics import mean_squared_error\n",
    "from sklearn.model_selection import KFold\n",
    "from sklearn.linear_model import LinearRegression\n",
    "from sklearn.linear_model import Ridge"
   ]
  },
  {
   "cell_type": "code",
   "execution_count": 2,
   "metadata": {
    "collapsed": false
   },
   "outputs": [],
   "source": [
    "# read data\n",
    "train = pd.read_csv('train.csv')\n",
    "test = pd.read_csv('test.csv')"
   ]
  },
  {
   "cell_type": "code",
   "execution_count": 3,
   "metadata": {
    "collapsed": false
   },
   "outputs": [
    {
     "data": {
      "image/png": "[encoded data removed]",
      "text/plain": [
       "<matplotlib.figure.Figure at 0xded1a20>"
      ]
     },
     "metadata": {},
     "output_type": "display_data"
    }
   ],
   "source": [
    "# find outliers\n",
    "train.plot.scatter(x='GrLivArea', y='SalePrice', figsize=(10,5))\n",
    "plt.title('SalePrice vs GrLivArea')\n",
    "plt.xlabel('GrLivArea')\n",
    "plt.ylabel('SalePrice')\n",
    "plt.show()\n",
    "plt.close()"
   ]
  },
  {
   "cell_type": "code",
   "execution_count": 4,
   "metadata": {
    "collapsed": true
   },
   "outputs": [],
   "source": [
    "# remove outliers (with GrLivArea > 4000)\n",
    "train = train[train.GrLivArea < 4000]"
   ]
  },
  {
   "cell_type": "code",
   "execution_count": 5,
   "metadata": {
    "collapsed": false
   },
   "outputs": [
    {
     "name": "stdout",
     "output_type": "stream",
     "text": [
      "x_train shape: (1456, 79)\n",
      "x_test shape: (1459, 79)\n",
      "combined shape: (2915, 79)\n"
     ]
    }
   ],
   "source": [
    "# get other train info\n",
    "num_train = train.shape[0]\n",
    "id_train = train['Id']\n",
    "y_train = train['SalePrice']\n",
    "x_train = train.drop(['Id','SalePrice'], axis=1)\n",
    "print('x_train shape:', x_train.shape)\n",
    "\n",
    "# get other test info\n",
    "num_test = test.shape[0]\n",
    "id_test = test['Id']\n",
    "x_test = test.drop(['Id'], axis=1)\n",
    "print('x_test shape:', x_test.shape)\n",
    "\n",
    "# combine train and test data\n",
    "comb = pd.concat([x_train, x_test], ignore_index=True)\n",
    "print('combined shape:', comb.shape)"
   ]
  },
  {
   "cell_type": "code",
   "execution_count": 6,
   "metadata": {
    "collapsed": false
   },
   "outputs": [
    {
     "name": "stdout",
     "output_type": "stream",
     "text": [
      "Number of features with NA: 34\n",
      "Inital NA count:\n",
      "MSZoning           4\n",
      "LotFrontage      486\n",
      "Alley           2717\n",
      "Utilities          2\n",
      "Exterior1st        1\n",
      "Exterior2nd        1\n",
      "MasVnrType        24\n",
      "MasVnrArea        23\n",
      "BsmtQual          81\n",
      "BsmtCond          82\n",
      "BsmtExposure      82\n",
      "BsmtFinType1      79\n",
      "BsmtFinSF1         1\n",
      "BsmtFinType2      80\n",
      "BsmtFinSF2         1\n",
      "BsmtUnfSF          1\n",
      "TotalBsmtSF        1\n",
      "Electrical         1\n",
      "BsmtFullBath       2\n",
      "BsmtHalfBath       2\n",
      "KitchenQual        1\n",
      "Functional         2\n",
      "FireplaceQu     1420\n",
      "GarageType       157\n",
      "GarageYrBlt      159\n",
      "GarageFinish     159\n",
      "GarageCars         1\n",
      "GarageArea         1\n",
      "GarageQual       159\n",
      "GarageCond       159\n",
      "PoolQC          2907\n",
      "Fence           2345\n",
      "MiscFeature     2810\n",
      "SaleType           1\n",
      "dtype: int64\n"
     ]
    }
   ],
   "source": [
    "# count NAs for each feature\n",
    "na_count = comb.isnull().sum()\n",
    "na_count = na_count[na_count!=0]\n",
    "print('Number of features with NA:', na_count.shape[0])\n",
    "print('Inital NA count:')\n",
    "print(na_count)"
   ]
  },
  {
   "cell_type": "code",
   "execution_count": 7,
   "metadata": {
    "collapsed": false
   },
   "outputs": [
    {
     "name": "stdout",
     "output_type": "stream",
     "text": [
      "Number of features with NA: 0\n",
      "Post-processing NA count:\n",
      "Series([], dtype: int64)\n"
     ]
    }
   ],
   "source": [
    "# change meaningful NAs to None\n",
    "target_cols = ['Alley', 'MasVnrType', 'BsmtQual','BsmtCond','BsmtExposure','BsmtFinType1','BsmtFinType2','FireplaceQu',\n",
    "               'GarageType', 'GarageFinish','GarageQual','GarageCond','PoolQC','Fence','MiscFeature']\n",
    "comb.loc[:, target_cols] = comb[target_cols].fillna('None')\n",
    "\n",
    "# LotFrontage: use medium of the same neighborhood\n",
    "comb.loc[:, ['LotFrontage']] = comb.groupby(['Neighborhood'])['LotFrontage'].transform(\n",
    "    lambda x : x.fillna(x.median()))\n",
    "\n",
    "# Utilities: the test set only has Allpub value, and it has only 2 missing values. It's insignificant.\n",
    "comb.drop(['Utilities'], axis=1, inplace=True)\n",
    "\n",
    "# Bsmt area/bathroom related: use 0\n",
    "target_cols = ['BsmtFinSF1', 'BsmtFinSF2', 'BsmtUnfSF', 'TotalBsmtSF', 'BsmtFullBath', 'BsmtHalfBath']\n",
    "comb.loc[:, target_cols] = comb[target_cols].fillna(0)\n",
    "\n",
    "# Functional: use Typ\n",
    "comb.loc[:, ['Functional']] = comb['Functional'].fillna('Typ')\n",
    "\n",
    "# Garage related: use 0\n",
    "target_cols = ['GarageYrBlt', 'GarageCars', 'GarageArea']\n",
    "comb.loc[:, target_cols] = comb[target_cols].fillna(0)\n",
    "\n",
    "# Others: use mode\n",
    "target_cols = ['MSZoning', 'Exterior1st', 'Exterior2nd', 'MasVnrArea', 'Electrical', 'KitchenQual', 'SaleType']\n",
    "vals = comb.loc[:, target_cols].mode()\n",
    "comb.loc[:, target_cols] = comb[target_cols].fillna(vals.loc[0,:])\n",
    "\n",
    "# count NAs for each feature again\n",
    "na_count = comb.isnull().sum()\n",
    "na_count = na_count[na_count!=0]\n",
    "print('Number of features with NA:', na_count.shape[0])\n",
    "print('Post-processing NA count:')\n",
    "print(na_count)"
   ]
  },
  {
   "cell_type": "code",
   "execution_count": 8,
   "metadata": {
    "collapsed": false
   },
   "outputs": [],
   "source": [
    "# convert categorical features to strings\n",
    "comb['MSSubClass_cat'] = comb['MSSubClass'].astype('str')\n",
    "\n",
    "# convert ordinal features to numbers\n",
    "comb = comb.replace({\n",
    "    'Street' : {'Grvl' : 1, 'Pave' : 2},\n",
    "    'Alley' : {'Grvl' : 1, 'Pave' : 2},\n",
    "    'LotShape' : {'IR3' : 1, 'IR2' : 2, 'IR1' : 3, 'Reg' : 4},\n",
    "    'LandSlope' : {'Sev' : 1, 'Mod' : 2, 'Gtl' : 3},\n",
    "    'ExterQual' : {'Po' : 1, 'Fa' : 2, 'TA': 3, 'Gd': 4, 'Ex' : 5},\n",
    "    'ExterCond' : {'Po' : 1, 'Fa' : 2, 'TA': 3, 'Gd': 4, 'Ex' : 5},\n",
    "    'BsmtQual' : {'None' : 0, 'Po' : 1, 'Fa' : 2, 'TA': 3, 'Gd' : 4, 'Ex' : 5},\n",
    "    'BsmtCond' : {'None' : 0, 'Po' : 1, 'Fa' : 2, 'TA' : 3, 'Gd' : 4, 'Ex' : 5},\n",
    "    'BsmtExposure' : {'None' : 0, 'Mn' : 1, 'Av': 2, 'Gd' : 3},\n",
    "    'BsmtFinType1' : {'None' : 0, 'Unf' : 1, 'LwQ': 2, 'Rec' : 3, 'BLQ' : 4, 'ALQ' : 5, 'GLQ' : 6},\n",
    "    'BsmtFinType2' : {'None' : 0, 'Unf' : 1, 'LwQ': 2, 'Rec' : 3, 'BLQ' : 4, 'ALQ' : 5, 'GLQ' : 6},\n",
    "    'HeatingQC' : {'Po' : 1, 'Fa' : 2, 'TA' : 3, 'Gd' : 4, 'Ex' : 5},\n",
    "    'KitchenQual' : {'Po' : 1, 'Fa' : 2, 'TA' : 3, 'Gd' : 4, 'Ex' : 5},\n",
    "    'Functional' : {'Sal' : 1, 'Sev' : 2, 'Maj2' : 3, 'Maj1' : 4, 'Mod': 5, 'Min2' : 6, 'Min1' : 7, 'Typ' : 8},\n",
    "    'FireplaceQu' : {'None' : 0, 'Po' : 1, 'Fa' : 2, 'TA' : 3, 'Gd' : 4, 'Ex' : 5},\n",
    "    'GarageFinish':{'None':0, 'Unf':1, 'RFn':2, 'Fin':3},\n",
    "    'GarageQual' : {'None' : 0, 'Po' : 1, 'Fa' : 2, 'TA' : 3, 'Gd' : 4, 'Ex' : 5},\n",
    "    'GarageCond' : {'None' : 0, 'Po' : 1, 'Fa' : 2, 'TA' : 3, 'Gd' : 4, 'Ex' : 5},\n",
    "    'PavedDrive' : {'N' : 0, 'P' : 1, 'Y' : 2},\n",
    "    'PoolQC' : {'None' : 0, 'Fa' : 1, 'TA' : 2, 'Gd' : 3, 'Ex' : 4},\n",
    "    })"
   ]
  },
  {
   "cell_type": "code",
   "execution_count": 9,
   "metadata": {
    "collapsed": false
   },
   "outputs": [
    {
     "name": "stdout",
     "output_type": "stream",
     "text": [
      "Shape after feature engineering: (2915, 91)\n"
     ]
    }
   ],
   "source": [
    "# create more features\n",
    "\n",
    "# create features for overall scores\n",
    "comb['OverallScore'] = comb['OverallQual'] * comb['OverallCond']\n",
    "comb['GarageScore'] = comb['GarageQual'] * comb['GarageCond']\n",
    "comb['ExterScore'] = comb['ExterQual'] * comb['ExterCond']\n",
    "comb['KitchenScore'] = comb['KitchenAbvGr'] * comb['KitchenQual']\n",
    "comb['FireplaceScore'] = comb['Fireplaces'] * comb['FireplaceQu']\n",
    "comb['GarageScore2'] = comb['GarageArea'] * comb['GarageQual']\n",
    "comb['PoolScore'] = comb['PoolArea'] * comb['PoolQC']\n",
    "\n",
    "# Total number of bathrooms\n",
    "comb['TotalBath'] = comb['BsmtFullBath'] + (0.5 * comb['BsmtHalfBath']) + comb['FullBath'] + (0.5 * comb['HalfBath'])\n",
    "# Total square footage for house\n",
    "comb['TotalSF'] = comb['GrLivArea'] + comb['TotalBsmtSF']\n",
    "# Total square footage for porch\n",
    "comb['TotalPorchSF'] = comb['OpenPorchSF'] + comb['EnclosedPorch'] + comb['3SsnPorch'] + comb['ScreenPorch']\n",
    "\n",
    "# compute years used\n",
    "def cap_zero(x):\n",
    "    if x >= 0:\n",
    "        return x\n",
    "    return 0\n",
    "\n",
    "comb['YearsUsedConstr'] = (comb['YrSold'] - comb['YearBuilt']).apply(cap_zero)\n",
    "comb['YearsUsedRem'] = (comb['YrSold'] - comb['YearRemodAdd']).apply(cap_zero)\n",
    "\n",
    "print('Shape after feature engineering:', comb.shape)"
   ]
  },
  {
   "cell_type": "code",
   "execution_count": 10,
   "metadata": {
    "collapsed": false
   },
   "outputs": [
    {
     "name": "stdout",
     "output_type": "stream",
     "text": [
      "Shape after one hot encoding: (2915, 258)\n"
     ]
    }
   ],
   "source": [
    "# convert to one-hot encoding\n",
    "comb_oh = pd.get_dummies(comb)\n",
    "print('Shape after one hot encoding:', comb_oh.shape)"
   ]
  },
  {
   "cell_type": "code",
   "execution_count": 11,
   "metadata": {
    "collapsed": false
   },
   "outputs": [],
   "source": [
    "# extract train and test data from combined\n",
    "x_train = comb_oh[:num_train]\n",
    "x_test = comb_oh[num_train:]"
   ]
  },
  {
   "cell_type": "code",
   "execution_count": 12,
   "metadata": {
    "collapsed": false
   },
   "outputs": [],
   "source": [
    "# root mean squared log error\n",
    "def rmsle(pred, gtruth):\n",
    "    mse = mean_squared_error(np.log1p(gtruth), np.log1p(pred))\n",
    "    return np.sqrt(mse)\n",
    "\n",
    "def kfold_cv(x, y, regr, k=5):\n",
    "    kf = KFold(k)\n",
    "    x = x.as_matrix()\n",
    "    y = y.as_matrix()\n",
    "    error = 0\n",
    "    for train_idx, test_idx in kf.split(x, y):\n",
    "        regr.fit(x[train_idx,:], y[train_idx])\n",
    "        pred = regr.predict(x[test_idx,:])\n",
    "        error += rmsle(pred, y[test_idx]) / float(k)\n",
    "    return error"
   ]
  },
  {
   "cell_type": "code",
   "execution_count": 13,
   "metadata": {
    "collapsed": false
   },
   "outputs": [
    {
     "name": "stdout",
     "output_type": "stream",
     "text": [
      "0.156327143212\n"
     ]
    }
   ],
   "source": [
    "# use linear regression with l2-norm regularization\n",
    "regr = Ridge()\n",
    "error = kfold_cv(x_train, y_train, regr)\n",
    "print(error)"
   ]
  }
 ],
 "metadata": {
  "kernelspec": {
   "display_name": "Python 2",
   "language": "python",
   "name": "python2"
  },
  "language_info": {
   "codemirror_mode": {
    "name": "ipython",
    "version": 2
   },
   "file_extension": ".py",
   "mimetype": "text/x-python",
   "name": "python",
   "nbconvert_exporter": "python",
   "pygments_lexer": "ipython2",
   "version": "2.7.13"
  }
 },
 "nbformat": 4,
 "nbformat_minor": 2
}
